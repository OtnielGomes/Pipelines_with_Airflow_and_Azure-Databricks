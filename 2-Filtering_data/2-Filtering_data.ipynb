{
 "cells": [
  {
   "cell_type": "markdown",
   "metadata": {
    "application/vnd.databricks.v1+cell": {
     "cellMetadata": {},
     "inputWidgets": {},
     "nuid": "7f6b7815-5f1a-486b-9503-5d7f51c99ff3",
     "showTitle": false,
     "title": ""
    }
   },
   "source": [
    "## Filtering data"
   ]
  },
  {
   "cell_type": "markdown",
   "metadata": {
    "application/vnd.databricks.v1+cell": {
     "cellMetadata": {},
     "inputWidgets": {},
     "nuid": "6125a1fe-3ef8-4a42-8bab-f464a32a1da0",
     "showTitle": false,
     "title": ""
    }
   },
   "source": [
    "## Imports:"
   ]
  },
  {
   "cell_type": "code",
   "execution_count": 0,
   "metadata": {
    "application/vnd.databricks.v1+cell": {
     "cellMetadata": {
      "byteLimit": 2048000,
      "rowLimit": 10000
     },
     "inputWidgets": {},
     "nuid": "29ba0f8a-965b-456d-85ce-a089ae02822e",
     "showTitle": false,
     "title": ""
    }
   },
   "outputs": [],
   "source": [
    "from pyspark.sql.functions import to_date, first, col, round # Functions Pyspark"
   ]
  },
  {
   "cell_type": "markdown",
   "metadata": {
    "application/vnd.databricks.v1+cell": {
     "cellMetadata": {},
     "inputWidgets": {},
     "nuid": "9b0eb659-28ee-4e22-902e-f7498147c071",
     "showTitle": false,
     "title": ""
    }
   },
   "source": [
    "## Reading files"
   ]
  },
  {
   "cell_type": "code",
   "execution_count": 0,
   "metadata": {
    "application/vnd.databricks.v1+cell": {
     "cellMetadata": {
      "byteLimit": 2048000,
      "rowLimit": 10000
     },
     "inputWidgets": {},
     "nuid": "630af773-e6fd-478f-bfce-8d7529dde37f",
     "showTitle": false,
     "title": ""
    }
   },
   "outputs": [],
   "source": [
    "# File location and file type\n",
    "file_location = 'dbfs:/Workspace/Repos/otnielgomes/Pipelines_with_Airflow_and_Azure-Databricks/data/bronze/*/*/*'\n",
    "file_type = 'parquet'\n",
    "\n",
    "# Read files\n",
    "df_all_data = spark.read.format(file_type) \\\n",
    "    .load(file_location)\n",
    "\n",
    "#df_all_data.limit(5).display()"
   ]
  },
  {
   "cell_type": "markdown",
   "metadata": {
    "application/vnd.databricks.v1+cell": {
     "cellMetadata": {},
     "inputWidgets": {},
     "nuid": "71ef26b8-9a38-4bc3-9dd3-b200f0814e41",
     "showTitle": false,
     "title": ""
    }
   },
   "source": [
    "## Analyzing and processing data"
   ]
  },
  {
   "cell_type": "code",
   "execution_count": 0,
   "metadata": {
    "application/vnd.databricks.v1+cell": {
     "cellMetadata": {
      "byteLimit": 2048000,
      "rowLimit": 10000
     },
     "inputWidgets": {},
     "nuid": "4b9b2816-6c1b-49ae-83be-1a9ce6a924cb",
     "showTitle": false,
     "title": ""
    }
   },
   "outputs": [
    {
     "output_type": "execute_result",
     "data": {
      "text/plain": [
       "8286"
      ]
     },
     "execution_count": 3,
     "metadata": {},
     "output_type": "execute_result"
    }
   ],
   "source": [
    "# Number of lines\n",
    "#df_all_data.count() "
   ]
  },
  {
   "cell_type": "code",
   "execution_count": 0,
   "metadata": {
    "application/vnd.databricks.v1+cell": {
     "cellMetadata": {
      "byteLimit": 2048000,
      "rowLimit": 10000
     },
     "inputWidgets": {},
     "nuid": "7559e470-8d48-4de8-8b44-ad92d8f6cd07",
     "showTitle": false,
     "title": ""
    }
   },
   "outputs": [
    {
     "output_type": "display_data",
     "data": {
      "text/html": [
       "<style scoped>\n",
       "  .table-result-container {\n",
       "    max-height: 300px;\n",
       "    overflow: auto;\n",
       "  }\n",
       "  table, th, td {\n",
       "    border: 1px solid black;\n",
       "    border-collapse: collapse;\n",
       "  }\n",
       "  th, td {\n",
       "    padding: 5px;\n",
       "  }\n",
       "  th {\n",
       "    text-align: left;\n",
       "  }\n",
       "</style><div class='table-result-container'><table class='table-result'><thead style='background-color: white'><tr><th>coin</th></tr></thead><tbody><tr><td>SYP</td></tr><tr><td>SOS</td></tr><tr><td>XPF</td></tr><tr><td>TJS</td></tr><tr><td>XCD</td></tr><tr><td>SVC</td></tr><tr><td>SRD</td></tr><tr><td>VES</td></tr><tr><td>ZWL</td></tr><tr><td>ZMW</td></tr><tr><td>SDG</td></tr><tr><td>TRY</td></tr><tr><td>TND</td></tr><tr><td>TWD</td></tr><tr><td>TZS</td></tr><tr><td>XAG</td></tr><tr><td>TTD</td></tr><tr><td>XAU</td></tr><tr><td>THB</td></tr><tr><td>VEF</td></tr><tr><td>ZAR</td></tr><tr><td>YER</td></tr><tr><td>SZL</td></tr><tr><td>STD</td></tr><tr><td>UZS</td></tr><tr><td>XDR</td></tr><tr><td>UYU</td></tr><tr><td>SLE</td></tr><tr><td>TMT</td></tr><tr><td>SHP</td></tr><tr><td>WST</td></tr><tr><td>ZMK</td></tr><tr><td>XOF</td></tr><tr><td>VUV</td></tr><tr><td>SCR</td></tr><tr><td>SLL</td></tr><tr><td>XAF</td></tr><tr><td>UGX</td></tr><tr><td>USD</td></tr><tr><td>TOP</td></tr><tr><td>SEK</td></tr><tr><td>UAH</td></tr><tr><td>VND</td></tr><tr><td>SGD</td></tr><tr><td>PYG</td></tr><tr><td>MDL</td></tr><tr><td>PAB</td></tr><tr><td>MYR</td></tr><tr><td>NIO</td></tr><tr><td>NZD</td></tr><tr><td>SBD</td></tr><tr><td>RUB</td></tr><tr><td>MMK</td></tr><tr><td>MUR</td></tr><tr><td>MVR</td></tr><tr><td>SAR</td></tr><tr><td>LKR</td></tr><tr><td>MNT</td></tr><tr><td>RSD</td></tr><tr><td>PKR</td></tr><tr><td>PEN</td></tr><tr><td>NOK</td></tr><tr><td>QAR</td></tr><tr><td>NAD</td></tr><tr><td>LRD</td></tr><tr><td>OMR</td></tr><tr><td>RON</td></tr><tr><td>MZN</td></tr><tr><td>PHP</td></tr><tr><td>RWF</td></tr><tr><td>MOP</td></tr><tr><td>MXN</td></tr><tr><td>NPR</td></tr><tr><td>LVL</td></tr><tr><td>PGK</td></tr><tr><td>MAD</td></tr><tr><td>LTL</td></tr><tr><td>PLN</td></tr><tr><td>MKD</td></tr><tr><td>MWK</td></tr><tr><td>LYD</td></tr><tr><td>MGA</td></tr><tr><td>NGN</td></tr><tr><td>LSL</td></tr><tr><td>LBP</td></tr><tr><td>MRU</td></tr><tr><td>DKK</td></tr><tr><td>KPW</td></tr><tr><td>IMP</td></tr><tr><td>DOP</td></tr><tr><td>ALL</td></tr><tr><td>HUF</td></tr><tr><td>HRK</td></tr><tr><td>BDT</td></tr><tr><td>GBP</td></tr><tr><td>JMD</td></tr><tr><td>GNF</td></tr><tr><td>CHF</td></tr><tr><td>DJF</td></tr><tr><td>BRL</td></tr><tr><td>CZK</td></tr><tr><td>KGS</td></tr><tr><td>FJD</td></tr><tr><td>BOB</td></tr><tr><td>EGP</td></tr><tr><td>GGP</td></tr><tr><td>BYR</td></tr><tr><td>GYD</td></tr><tr><td>COP</td></tr><tr><td>LAK</td></tr><tr><td>IDR</td></tr><tr><td>HNL</td></tr><tr><td>IRR</td></tr><tr><td>ARS</td></tr><tr><td>CAD</td></tr><tr><td>AED</td></tr><tr><td>CUC</td></tr><tr><td>DZD</td></tr><tr><td>CNY</td></tr><tr><td>EUR</td></tr><tr><td>HTG</td></tr><tr><td>KYD</td></tr><tr><td>FKP</td></tr><tr><td>AZN</td></tr><tr><td>GEL</td></tr><tr><td>BMD</td></tr><tr><td>BHD</td></tr><tr><td>ISK</td></tr><tr><td>GIP</td></tr><tr><td>ILS</td></tr><tr><td>KMF</td></tr><tr><td>BWP</td></tr><tr><td>ANG</td></tr><tr><td>AUD</td></tr><tr><td>KES</td></tr><tr><td>KRW</td></tr><tr><td>BAM</td></tr><tr><td>JEP</td></tr><tr><td>JPY</td></tr><tr><td>BBD</td></tr><tr><td>ETB</td></tr><tr><td>KZT</td></tr><tr><td>AWG</td></tr><tr><td>GMD</td></tr><tr><td>AOA</td></tr><tr><td>HKD</td></tr><tr><td>BTN</td></tr><tr><td>INR</td></tr><tr><td>BIF</td></tr><tr><td>AMD</td></tr><tr><td>AFN</td></tr><tr><td>CRC</td></tr><tr><td>BTC</td></tr><tr><td>IQD</td></tr><tr><td>CUP</td></tr><tr><td>CLP</td></tr><tr><td>ERN</td></tr><tr><td>KWD</td></tr><tr><td>GTQ</td></tr><tr><td>BGN</td></tr><tr><td>GHS</td></tr><tr><td>BZD</td></tr><tr><td>CVE</td></tr><tr><td>BYN</td></tr><tr><td>CDF</td></tr><tr><td>CLF</td></tr><tr><td>BSD</td></tr><tr><td>KHR</td></tr><tr><td>JOD</td></tr><tr><td>BND</td></tr></tbody></table></div>"
      ]
     },
     "metadata": {
      "application/vnd.databricks.v1+output": {
       "addedWidgets": {},
       "aggData": [],
       "aggError": "",
       "aggOverflow": false,
       "aggSchema": [],
       "aggSeriesLimitReached": false,
       "aggType": "",
       "arguments": {},
       "columnCustomDisplayInfos": {},
       "data": [
        [
         "SYP"
        ],
        [
         "SOS"
        ],
        [
         "XPF"
        ],
        [
         "TJS"
        ],
        [
         "XCD"
        ],
        [
         "SVC"
        ],
        [
         "SRD"
        ],
        [
         "VES"
        ],
        [
         "ZWL"
        ],
        [
         "ZMW"
        ],
        [
         "SDG"
        ],
        [
         "TRY"
        ],
        [
         "TND"
        ],
        [
         "TWD"
        ],
        [
         "TZS"
        ],
        [
         "XAG"
        ],
        [
         "TTD"
        ],
        [
         "XAU"
        ],
        [
         "THB"
        ],
        [
         "VEF"
        ],
        [
         "ZAR"
        ],
        [
         "YER"
        ],
        [
         "SZL"
        ],
        [
         "STD"
        ],
        [
         "UZS"
        ],
        [
         "XDR"
        ],
        [
         "UYU"
        ],
        [
         "SLE"
        ],
        [
         "TMT"
        ],
        [
         "SHP"
        ],
        [
         "WST"
        ],
        [
         "ZMK"
        ],
        [
         "XOF"
        ],
        [
         "VUV"
        ],
        [
         "SCR"
        ],
        [
         "SLL"
        ],
        [
         "XAF"
        ],
        [
         "UGX"
        ],
        [
         "USD"
        ],
        [
         "TOP"
        ],
        [
         "SEK"
        ],
        [
         "UAH"
        ],
        [
         "VND"
        ],
        [
         "SGD"
        ],
        [
         "PYG"
        ],
        [
         "MDL"
        ],
        [
         "PAB"
        ],
        [
         "MYR"
        ],
        [
         "NIO"
        ],
        [
         "NZD"
        ],
        [
         "SBD"
        ],
        [
         "RUB"
        ],
        [
         "MMK"
        ],
        [
         "MUR"
        ],
        [
         "MVR"
        ],
        [
         "SAR"
        ],
        [
         "LKR"
        ],
        [
         "MNT"
        ],
        [
         "RSD"
        ],
        [
         "PKR"
        ],
        [
         "PEN"
        ],
        [
         "NOK"
        ],
        [
         "QAR"
        ],
        [
         "NAD"
        ],
        [
         "LRD"
        ],
        [
         "OMR"
        ],
        [
         "RON"
        ],
        [
         "MZN"
        ],
        [
         "PHP"
        ],
        [
         "RWF"
        ],
        [
         "MOP"
        ],
        [
         "MXN"
        ],
        [
         "NPR"
        ],
        [
         "LVL"
        ],
        [
         "PGK"
        ],
        [
         "MAD"
        ],
        [
         "LTL"
        ],
        [
         "PLN"
        ],
        [
         "MKD"
        ],
        [
         "MWK"
        ],
        [
         "LYD"
        ],
        [
         "MGA"
        ],
        [
         "NGN"
        ],
        [
         "LSL"
        ],
        [
         "LBP"
        ],
        [
         "MRU"
        ],
        [
         "DKK"
        ],
        [
         "KPW"
        ],
        [
         "IMP"
        ],
        [
         "DOP"
        ],
        [
         "ALL"
        ],
        [
         "HUF"
        ],
        [
         "HRK"
        ],
        [
         "BDT"
        ],
        [
         "GBP"
        ],
        [
         "JMD"
        ],
        [
         "GNF"
        ],
        [
         "CHF"
        ],
        [
         "DJF"
        ],
        [
         "BRL"
        ],
        [
         "CZK"
        ],
        [
         "KGS"
        ],
        [
         "FJD"
        ],
        [
         "BOB"
        ],
        [
         "EGP"
        ],
        [
         "GGP"
        ],
        [
         "BYR"
        ],
        [
         "GYD"
        ],
        [
         "COP"
        ],
        [
         "LAK"
        ],
        [
         "IDR"
        ],
        [
         "HNL"
        ],
        [
         "IRR"
        ],
        [
         "ARS"
        ],
        [
         "CAD"
        ],
        [
         "AED"
        ],
        [
         "CUC"
        ],
        [
         "DZD"
        ],
        [
         "CNY"
        ],
        [
         "EUR"
        ],
        [
         "HTG"
        ],
        [
         "KYD"
        ],
        [
         "FKP"
        ],
        [
         "AZN"
        ],
        [
         "GEL"
        ],
        [
         "BMD"
        ],
        [
         "BHD"
        ],
        [
         "ISK"
        ],
        [
         "GIP"
        ],
        [
         "ILS"
        ],
        [
         "KMF"
        ],
        [
         "BWP"
        ],
        [
         "ANG"
        ],
        [
         "AUD"
        ],
        [
         "KES"
        ],
        [
         "KRW"
        ],
        [
         "BAM"
        ],
        [
         "JEP"
        ],
        [
         "JPY"
        ],
        [
         "BBD"
        ],
        [
         "ETB"
        ],
        [
         "KZT"
        ],
        [
         "AWG"
        ],
        [
         "GMD"
        ],
        [
         "AOA"
        ],
        [
         "HKD"
        ],
        [
         "BTN"
        ],
        [
         "INR"
        ],
        [
         "BIF"
        ],
        [
         "AMD"
        ],
        [
         "AFN"
        ],
        [
         "CRC"
        ],
        [
         "BTC"
        ],
        [
         "IQD"
        ],
        [
         "CUP"
        ],
        [
         "CLP"
        ],
        [
         "ERN"
        ],
        [
         "KWD"
        ],
        [
         "GTQ"
        ],
        [
         "BGN"
        ],
        [
         "GHS"
        ],
        [
         "BZD"
        ],
        [
         "CVE"
        ],
        [
         "BYN"
        ],
        [
         "CDF"
        ],
        [
         "CLF"
        ],
        [
         "BSD"
        ],
        [
         "KHR"
        ],
        [
         "JOD"
        ],
        [
         "BND"
        ]
       ],
       "datasetInfos": [],
       "dbfsResultPath": null,
       "isJsonSchema": true,
       "metadata": {},
       "overflow": false,
       "plotOptions": {
        "customPlotOptions": {},
        "displayType": "table",
        "pivotAggregation": null,
        "pivotColumns": null,
        "xColumns": null,
        "yColumns": null
       },
       "removedWidgets": [],
       "schema": [
        {
         "metadata": "{}",
         "name": "coin",
         "type": "\"string\""
        }
       ],
       "type": "table"
      }
     },
     "output_type": "display_data"
    }
   ],
   "source": [
    "# Coins in dataset\n",
    "#df_all_data \\\n",
    "    #.select('coin') \\\n",
    "    #.distinct() \\\n",
    "    #.display()"
   ]
  },
  {
   "cell_type": "code",
   "execution_count": 0,
   "metadata": {
    "application/vnd.databricks.v1+cell": {
     "cellMetadata": {
      "byteLimit": 2048000,
      "rowLimit": 10000
     },
     "inputWidgets": {},
     "nuid": "2b51849d-3fa3-42fe-a9eb-c0e309b0f809",
     "showTitle": false,
     "title": ""
    }
   },
   "outputs": [
    {
     "output_type": "execute_result",
     "data": {
      "text/plain": [
       "170"
      ]
     },
     "execution_count": 5,
     "metadata": {},
     "output_type": "execute_result"
    }
   ],
   "source": [
    "# Numbers of coins in dataset\n",
    "#df_all_data \\\n",
    "    #.select('coin') \\\n",
    "    #.distinct() \\\n",
    "    #.count()"
   ]
  },
  {
   "cell_type": "code",
   "execution_count": 0,
   "metadata": {
    "application/vnd.databricks.v1+cell": {
     "cellMetadata": {
      "byteLimit": 2048000,
      "rowLimit": 10000
     },
     "inputWidgets": {},
     "nuid": "bb1c52fe-3e91-4d34-847a-09f4816a174b",
     "showTitle": false,
     "title": ""
    }
   },
   "outputs": [],
   "source": [
    "# Choosing currencies according to project request\n",
    "coins = ['USD', 'EUR', 'GBP']"
   ]
  },
  {
   "cell_type": "code",
   "execution_count": 0,
   "metadata": {
    "application/vnd.databricks.v1+cell": {
     "cellMetadata": {
      "byteLimit": 2048000,
      "rowLimit": 10000
     },
     "inputWidgets": {},
     "nuid": "70d5a4e6-2a21-46fa-b635-06b8aa14ef2d",
     "showTitle": false,
     "title": ""
    }
   },
   "outputs": [
    {
     "output_type": "display_data",
     "data": {
      "text/html": [
       "<style scoped>\n",
       "  .table-result-container {\n",
       "    max-height: 300px;\n",
       "    overflow: auto;\n",
       "  }\n",
       "  table, th, td {\n",
       "    border: 1px solid black;\n",
       "    border-collapse: collapse;\n",
       "  }\n",
       "  th, td {\n",
       "    padding: 5px;\n",
       "  }\n",
       "  th {\n",
       "    text-align: left;\n",
       "  }\n",
       "</style><div class='table-result-container'><table class='table-result'><thead style='background-color: white'><tr><th>coin</th><th>rate</th><th>date</th></tr></thead><tbody><tr><td>USD</td><td>0.20105</td><td>2024-02-15</td></tr><tr><td>USD</td><td>0.201325</td><td>2024-02-18</td></tr><tr><td>USD</td><td>0.201325</td><td>2024-02-16</td></tr><tr><td>USD</td><td>0.201155</td><td>2024-02-17</td></tr><tr><td>USD</td><td>0.201215</td><td>2024-02-14</td></tr><tr><td>USD</td><td>0.20602</td><td>2024-01-01</td></tr><tr><td>USD</td><td>0.203088</td><td>2024-01-02</td></tr><tr><td>USD</td><td>0.203223</td><td>2024-01-03</td></tr><tr><td>USD</td><td>0.204203</td><td>2024-01-04</td></tr><tr><td>USD</td><td>0.205124</td><td>2024-01-05</td></tr></tbody></table></div>"
      ]
     },
     "metadata": {
      "application/vnd.databricks.v1+output": {
       "addedWidgets": {},
       "aggData": [],
       "aggError": "",
       "aggOverflow": false,
       "aggSchema": [],
       "aggSeriesLimitReached": false,
       "aggType": "",
       "arguments": {},
       "columnCustomDisplayInfos": {},
       "data": [
        [
         "USD",
         0.20105,
         "2024-02-15"
        ],
        [
         "USD",
         0.201325,
         "2024-02-18"
        ],
        [
         "USD",
         0.201325,
         "2024-02-16"
        ],
        [
         "USD",
         0.201155,
         "2024-02-17"
        ],
        [
         "USD",
         0.201215,
         "2024-02-14"
        ],
        [
         "USD",
         0.20602,
         "2024-01-01"
        ],
        [
         "USD",
         0.203088,
         "2024-01-02"
        ],
        [
         "USD",
         0.203223,
         "2024-01-03"
        ],
        [
         "USD",
         0.204203,
         "2024-01-04"
        ],
        [
         "USD",
         0.205124,
         "2024-01-05"
        ]
       ],
       "datasetInfos": [],
       "dbfsResultPath": null,
       "isJsonSchema": true,
       "metadata": {},
       "overflow": false,
       "plotOptions": {
        "customPlotOptions": {},
        "displayType": "table",
        "pivotAggregation": null,
        "pivotColumns": null,
        "xColumns": null,
        "yColumns": null
       },
       "removedWidgets": [],
       "schema": [
        {
         "metadata": "{}",
         "name": "coin",
         "type": "\"string\""
        },
        {
         "metadata": "{}",
         "name": "rate",
         "type": "\"double\""
        },
        {
         "metadata": "{}",
         "name": "date",
         "type": "\"string\""
        }
       ],
       "type": "table"
      }
     },
     "output_type": "display_data"
    }
   ],
   "source": [
    "# Defined a new dataset with the chosen currencies\n",
    "df_coin = df_all_data \\\n",
    "    .filter(df_all_data.coin.isin(coins))\n",
    "\n",
    "#df_coin.limit(10).display()"
   ]
  },
  {
   "cell_type": "code",
   "execution_count": 0,
   "metadata": {
    "application/vnd.databricks.v1+cell": {
     "cellMetadata": {
      "byteLimit": 2048000,
      "rowLimit": 10000
     },
     "inputWidgets": {},
     "nuid": "dc6c4b04-f889-4d4d-b1f6-22932ec964e8",
     "showTitle": false,
     "title": ""
    }
   },
   "outputs": [
    {
     "output_type": "display_data",
     "data": {
      "text/html": [
       "<style scoped>\n",
       "  .table-result-container {\n",
       "    max-height: 300px;\n",
       "    overflow: auto;\n",
       "  }\n",
       "  table, th, td {\n",
       "    border: 1px solid black;\n",
       "    border-collapse: collapse;\n",
       "  }\n",
       "  th, td {\n",
       "    padding: 5px;\n",
       "  }\n",
       "  th {\n",
       "    text-align: left;\n",
       "  }\n",
       "</style><div class='table-result-container'><table class='table-result'><thead style='background-color: white'><tr><th>coin</th></tr></thead><tbody><tr><td>USD</td></tr><tr><td>GBP</td></tr><tr><td>EUR</td></tr></tbody></table></div>"
      ]
     },
     "metadata": {
      "application/vnd.databricks.v1+output": {
       "addedWidgets": {},
       "aggData": [],
       "aggError": "",
       "aggOverflow": false,
       "aggSchema": [],
       "aggSeriesLimitReached": false,
       "aggType": "",
       "arguments": {},
       "columnCustomDisplayInfos": {},
       "data": [
        [
         "USD"
        ],
        [
         "GBP"
        ],
        [
         "EUR"
        ]
       ],
       "datasetInfos": [],
       "dbfsResultPath": null,
       "isJsonSchema": true,
       "metadata": {},
       "overflow": false,
       "plotOptions": {
        "customPlotOptions": {},
        "displayType": "table",
        "pivotAggregation": null,
        "pivotColumns": null,
        "xColumns": null,
        "yColumns": null
       },
       "removedWidgets": [],
       "schema": [
        {
         "metadata": "{}",
         "name": "coin",
         "type": "\"string\""
        }
       ],
       "type": "table"
      }
     },
     "output_type": "display_data"
    }
   ],
   "source": [
    "# Coins in dataset\n",
    "#df_coin \\\n",
    "    #.select('coin') \\\n",
    "    #.distinct() \\\n",
    "    #.display()"
   ]
  },
  {
   "cell_type": "code",
   "execution_count": 0,
   "metadata": {
    "application/vnd.databricks.v1+cell": {
     "cellMetadata": {
      "byteLimit": 2048000,
      "rowLimit": 10000
     },
     "inputWidgets": {},
     "nuid": "a83a9055-0c3b-4c4b-baee-3ac0db408279",
     "showTitle": false,
     "title": ""
    }
   },
   "outputs": [
    {
     "output_type": "stream",
     "name": "stdout",
     "output_type": "stream",
     "text": [
      "root\n |-- coin: string (nullable = true)\n |-- rate: double (nullable = true)\n |-- date: string (nullable = true)\n\n"
     ]
    }
   ],
   "source": [
    "# Check the data type of the dataset\n",
    "#df_coin.printSchema()"
   ]
  },
  {
   "cell_type": "code",
   "execution_count": 0,
   "metadata": {
    "application/vnd.databricks.v1+cell": {
     "cellMetadata": {
      "byteLimit": 2048000,
      "rowLimit": 10000
     },
     "inputWidgets": {},
     "nuid": "721b914f-edd5-44c8-a1f2-5fc8a8ef7825",
     "showTitle": false,
     "title": ""
    }
   },
   "outputs": [],
   "source": [
    "# Adjusting the data column schema\n",
    "df_coin = df_coin = df_coin \\\n",
    "    .withColumn('date', to_date('date'))"
   ]
  },
  {
   "cell_type": "code",
   "execution_count": 0,
   "metadata": {
    "application/vnd.databricks.v1+cell": {
     "cellMetadata": {
      "byteLimit": 2048000,
      "rowLimit": 10000
     },
     "inputWidgets": {},
     "nuid": "8e97ff7c-5995-446d-a2d9-cc2622f42979",
     "showTitle": false,
     "title": ""
    }
   },
   "outputs": [
    {
     "output_type": "stream",
     "name": "stdout",
     "output_type": "stream",
     "text": [
      "root\n |-- coin: string (nullable = true)\n |-- rate: double (nullable = true)\n |-- date: date (nullable = true)\n\n"
     ]
    }
   ],
   "source": [
    "# Check the data type of the dataset\n",
    "#df_coin.printSchema()"
   ]
  },
  {
   "cell_type": "code",
   "execution_count": 0,
   "metadata": {
    "application/vnd.databricks.v1+cell": {
     "cellMetadata": {
      "byteLimit": 2048000,
      "rowLimit": 10000
     },
     "inputWidgets": {},
     "nuid": "1bdad92f-d226-4449-b89b-c60e53336362",
     "showTitle": false,
     "title": ""
    }
   },
   "outputs": [
    {
     "output_type": "display_data",
     "data": {
      "text/html": [
       "<style scoped>\n",
       "  .table-result-container {\n",
       "    max-height: 300px;\n",
       "    overflow: auto;\n",
       "  }\n",
       "  table, th, td {\n",
       "    border: 1px solid black;\n",
       "    border-collapse: collapse;\n",
       "  }\n",
       "  th, td {\n",
       "    padding: 5px;\n",
       "  }\n",
       "  th {\n",
       "    text-align: left;\n",
       "  }\n",
       "</style><div class='table-result-container'><table class='table-result'><thead style='background-color: white'><tr><th>date</th><th>EUR</th><th>GBP</th><th>USD</th></tr></thead><tbody><tr><td>2024-01-01</td><td>0.186651</td><td>0.161866</td><td>0.20602</td></tr><tr><td>2024-01-02</td><td>0.185614</td><td>0.160894</td><td>0.203088</td></tr><tr><td>2024-01-03</td><td>0.18599</td><td>0.160353</td><td>0.203223</td></tr><tr><td>2024-01-04</td><td>0.18654</td><td>0.161001</td><td>0.204203</td></tr><tr><td>2024-01-05</td><td>0.187247</td><td>0.16118</td><td>0.205124</td></tr></tbody></table></div>"
      ]
     },
     "metadata": {
      "application/vnd.databricks.v1+output": {
       "addedWidgets": {},
       "aggData": [],
       "aggError": "",
       "aggOverflow": false,
       "aggSchema": [],
       "aggSeriesLimitReached": false,
       "aggType": "",
       "arguments": {},
       "columnCustomDisplayInfos": {},
       "data": [
        [
         "2024-01-01",
         0.186651,
         0.161866,
         0.20602
        ],
        [
         "2024-01-02",
         0.185614,
         0.160894,
         0.203088
        ],
        [
         "2024-01-03",
         0.18599,
         0.160353,
         0.203223
        ],
        [
         "2024-01-04",
         0.18654,
         0.161001,
         0.204203
        ],
        [
         "2024-01-05",
         0.187247,
         0.16118,
         0.205124
        ]
       ],
       "datasetInfos": [],
       "dbfsResultPath": null,
       "isJsonSchema": true,
       "metadata": {},
       "overflow": false,
       "plotOptions": {
        "customPlotOptions": {},
        "displayType": "table",
        "pivotAggregation": null,
        "pivotColumns": null,
        "xColumns": null,
        "yColumns": null
       },
       "removedWidgets": [],
       "schema": [
        {
         "metadata": "{}",
         "name": "date",
         "type": "\"date\""
        },
        {
         "metadata": "{}",
         "name": "EUR",
         "type": "\"double\""
        },
        {
         "metadata": "{}",
         "name": "GBP",
         "type": "\"double\""
        },
        {
         "metadata": "{}",
         "name": "USD",
         "type": "\"double\""
        }
       ],
       "type": "table"
      }
     },
     "output_type": "display_data"
    }
   ],
   "source": [
    "# Creating columns for the selected currencies in the dataset\n",
    "conversion_rate_results = df_coin \\\n",
    "    .groupBy('date') \\\n",
    "    .pivot('coin') \\\n",
    "    .agg(first('rate')) \\\n",
    "    .orderBy('date', ascending = False)\n",
    "\n",
    "#conversion_rate_results.limit(5).display()"
   ]
  },
  {
   "cell_type": "code",
   "execution_count": 0,
   "metadata": {
    "application/vnd.databricks.v1+cell": {
     "cellMetadata": {
      "byteLimit": 2048000,
      "rowLimit": 10000
     },
     "inputWidgets": {},
     "nuid": "b0ea1144-5bce-423c-9d6e-46a95be188b0",
     "showTitle": false,
     "title": ""
    }
   },
   "outputs": [
    {
     "output_type": "display_data",
     "data": {
      "text/html": [
       "<style scoped>\n",
       "  .table-result-container {\n",
       "    max-height: 300px;\n",
       "    overflow: auto;\n",
       "  }\n",
       "  table, th, td {\n",
       "    border: 1px solid black;\n",
       "    border-collapse: collapse;\n",
       "  }\n",
       "  th, td {\n",
       "    padding: 5px;\n",
       "  }\n",
       "  th {\n",
       "    text-align: left;\n",
       "  }\n",
       "</style><div class='table-result-container'><table class='table-result'><thead style='background-color: white'><tr><th>date</th><th>EUR</th><th>GBP</th><th>USD</th></tr></thead><tbody><tr><td>2024-01-01</td><td>0.186651</td><td>0.161866</td><td>0.20602</td></tr><tr><td>2024-01-02</td><td>0.185614</td><td>0.160894</td><td>0.203088</td></tr><tr><td>2024-01-03</td><td>0.18599</td><td>0.160353</td><td>0.203223</td></tr><tr><td>2024-01-04</td><td>0.18654</td><td>0.161001</td><td>0.204203</td></tr><tr><td>2024-01-05</td><td>0.187247</td><td>0.16118</td><td>0.205124</td></tr></tbody></table></div>"
      ]
     },
     "metadata": {
      "application/vnd.databricks.v1+output": {
       "addedWidgets": {},
       "aggData": [],
       "aggError": "",
       "aggOverflow": false,
       "aggSchema": [],
       "aggSeriesLimitReached": false,
       "aggType": "",
       "arguments": {},
       "columnCustomDisplayInfos": {},
       "data": [
        [
         "2024-01-01",
         0.186651,
         0.161866,
         0.20602
        ],
        [
         "2024-01-02",
         0.185614,
         0.160894,
         0.203088
        ],
        [
         "2024-01-03",
         0.18599,
         0.160353,
         0.203223
        ],
        [
         "2024-01-04",
         0.18654,
         0.161001,
         0.204203
        ],
        [
         "2024-01-05",
         0.187247,
         0.16118,
         0.205124
        ]
       ],
       "datasetInfos": [],
       "dbfsResultPath": null,
       "isJsonSchema": true,
       "metadata": {},
       "overflow": false,
       "plotOptions": {
        "customPlotOptions": {},
        "displayType": "table",
        "pivotAggregation": null,
        "pivotColumns": null,
        "xColumns": null,
        "yColumns": null
       },
       "removedWidgets": [],
       "schema": [
        {
         "metadata": "{}",
         "name": "date",
         "type": "\"date\""
        },
        {
         "metadata": "{}",
         "name": "EUR",
         "type": "\"double\""
        },
        {
         "metadata": "{}",
         "name": "GBP",
         "type": "\"double\""
        },
        {
         "metadata": "{}",
         "name": "USD",
         "type": "\"double\""
        }
       ],
       "type": "table"
      }
     },
     "output_type": "display_data"
    }
   ],
   "source": [
    "# Adjusting the conversion rate values to check the value in BRL that we will need to purchase the other currencies\n",
    "# Creating new dataset\n",
    "result_value_BRL = conversion_rate_results\n",
    "#result_value_BRL.limit(5).display()"
   ]
  },
  {
   "cell_type": "code",
   "execution_count": 0,
   "metadata": {
    "application/vnd.databricks.v1+cell": {
     "cellMetadata": {
      "byteLimit": 2048000,
      "rowLimit": 10000
     },
     "inputWidgets": {},
     "nuid": "dfaf1450-77d0-444b-8803-88e7e823f9cc",
     "showTitle": false,
     "title": ""
    }
   },
   "outputs": [],
   "source": [
    "# Adjusting the conversion rate values to check the value in BRL that we will need to purchase the other currencies\n",
    "# creating a FOR to convert the values\n",
    "for coin in coins:\n",
    "    result_value_BRL = result_value_BRL \\\n",
    "        .withColumn(coin, round(1 / col(coin), 4))"
   ]
  },
  {
   "cell_type": "code",
   "execution_count": 0,
   "metadata": {
    "application/vnd.databricks.v1+cell": {
     "cellMetadata": {
      "byteLimit": 2048000,
      "rowLimit": 10000
     },
     "inputWidgets": {},
     "nuid": "0cce101a-3eb7-4f1b-b577-5a79741b916f",
     "showTitle": false,
     "title": ""
    }
   },
   "outputs": [
    {
     "output_type": "display_data",
     "data": {
      "text/html": [
       "<style scoped>\n",
       "  .table-result-container {\n",
       "    max-height: 300px;\n",
       "    overflow: auto;\n",
       "  }\n",
       "  table, th, td {\n",
       "    border: 1px solid black;\n",
       "    border-collapse: collapse;\n",
       "  }\n",
       "  th, td {\n",
       "    padding: 5px;\n",
       "  }\n",
       "  th {\n",
       "    text-align: left;\n",
       "  }\n",
       "</style><div class='table-result-container'><table class='table-result'><thead style='background-color: white'><tr><th>date</th><th>EUR</th><th>GBP</th><th>USD</th></tr></thead><tbody><tr><td>2024-01-01</td><td>5.3576</td><td>6.1779</td><td>4.8539</td></tr><tr><td>2024-01-02</td><td>5.3875</td><td>6.2153</td><td>4.924</td></tr><tr><td>2024-01-03</td><td>5.3766</td><td>6.2362</td><td>4.9207</td></tr><tr><td>2024-01-04</td><td>5.3608</td><td>6.2111</td><td>4.8971</td></tr><tr><td>2024-01-05</td><td>5.3405</td><td>6.2042</td><td>4.8751</td></tr></tbody></table></div>"
      ]
     },
     "metadata": {
      "application/vnd.databricks.v1+output": {
       "addedWidgets": {},
       "aggData": [],
       "aggError": "",
       "aggOverflow": false,
       "aggSchema": [],
       "aggSeriesLimitReached": false,
       "aggType": "",
       "arguments": {},
       "columnCustomDisplayInfos": {},
       "data": [
        [
         "2024-01-01",
         5.3576,
         6.1779,
         4.8539
        ],
        [
         "2024-01-02",
         5.3875,
         6.2153,
         4.924
        ],
        [
         "2024-01-03",
         5.3766,
         6.2362,
         4.9207
        ],
        [
         "2024-01-04",
         5.3608,
         6.2111,
         4.8971
        ],
        [
         "2024-01-05",
         5.3405,
         6.2042,
         4.8751
        ]
       ],
       "datasetInfos": [],
       "dbfsResultPath": null,
       "isJsonSchema": true,
       "metadata": {},
       "overflow": false,
       "plotOptions": {
        "customPlotOptions": {},
        "displayType": "table",
        "pivotAggregation": null,
        "pivotColumns": null,
        "xColumns": null,
        "yColumns": null
       },
       "removedWidgets": [],
       "schema": [
        {
         "metadata": "{}",
         "name": "date",
         "type": "\"date\""
        },
        {
         "metadata": "{}",
         "name": "EUR",
         "type": "\"double\""
        },
        {
         "metadata": "{}",
         "name": "GBP",
         "type": "\"double\""
        },
        {
         "metadata": "{}",
         "name": "USD",
         "type": "\"double\""
        }
       ],
       "type": "table"
      }
     },
     "output_type": "display_data"
    }
   ],
   "source": [
    "#result_value_BRL.limit(5).display()"
   ]
  },
  {
   "cell_type": "markdown",
   "metadata": {
    "application/vnd.databricks.v1+cell": {
     "cellMetadata": {},
     "inputWidgets": {},
     "nuid": "6b28dd5e-b0a8-48ae-8883-209d325f8595",
     "showTitle": false,
     "title": ""
    }
   },
   "source": [
    "## Saving data"
   ]
  },
  {
   "cell_type": "code",
   "execution_count": 0,
   "metadata": {
    "application/vnd.databricks.v1+cell": {
     "cellMetadata": {
      "byteLimit": 2048000,
      "rowLimit": 10000
     },
     "inputWidgets": {},
     "nuid": "73d44711-4d62-44f0-a57b-c6bc68004356",
     "showTitle": false,
     "title": ""
    }
   },
   "outputs": [],
   "source": [
    "# joining dataset partitions\n",
    "conversion_rate_results = conversion_rate_results.coalesce(1)\n",
    "result_value_BRL = result_value_BRL.coalesce(1)"
   ]
  },
  {
   "cell_type": "code",
   "execution_count": 0,
   "metadata": {
    "application/vnd.databricks.v1+cell": {
     "cellMetadata": {},
     "inputWidgets": {},
     "nuid": "f088cc82-6da3-487a-86b1-11ca953cd487",
     "showTitle": false,
     "title": ""
    }
   },
   "outputs": [],
   "source": [
    "# Datset: conversion_rate_results\n",
    "\n",
    "# File_location and Filetype\n",
    "file_location = 'dbfs:/Workspace/Repos/otnielgomes/Pipelines_with_Airflow_and_Azure-Databricks/data/silver/conversion_rate_results'\n",
    "file_type = 'csv'\n",
    "\n",
    "# Options CSV\n",
    "first_row_is_header = 'True'\n",
    "infer_schema = 'True'\n",
    "delimiter = ','\n",
    "\n",
    "# Mode\n",
    "mode = 'overwrite'\n",
    "\n",
    "# Writing the dataset\n",
    "conversion_rate_results.write.format(file_type) \\\n",
    "    .mode(mode) \\\n",
    "    .option('header', first_row_is_header) \\\n",
    "    .option('inferSchema', infer_schema) \\\n",
    "    .option('sep', delimiter) \\\n",
    "    .save(file_location)\n",
    "\n",
    "#display(dbutils.fs.ls(file_location))"
   ]
  },
  {
   "cell_type": "code",
   "execution_count": 0,
   "metadata": {
    "application/vnd.databricks.v1+cell": {
     "cellMetadata": {},
     "inputWidgets": {},
     "nuid": "5fb50fc6-aeb8-4873-9ace-77436dddb05f",
     "showTitle": false,
     "title": ""
    }
   },
   "outputs": [],
   "source": [
    "# Datset: result_value_BRL\n",
    "# File_location and Filetype\n",
    "file_location = 'dbfs:/Workspace/Repos/otnielgomes/Pipelines_with_Airflow_and_Azure-Databricks/data/silver/result_value_BRL'\n",
    "file_type = 'csv'\n",
    "\n",
    "# Options CSV\n",
    "first_row_is_header = 'True'\n",
    "infer_schema = 'True'\n",
    "delimiter = ','\n",
    "\n",
    "# Mode\n",
    "mode = 'overwrite'\n",
    "\n",
    "# Writing the dataset\n",
    "result_value_BRL.write.format(file_type) \\\n",
    "    .mode(mode) \\\n",
    "    .option('header', first_row_is_header) \\\n",
    "    .option('inferSchema', infer_schema) \\\n",
    "    .option('sep', delimiter) \\\n",
    "    .save(file_location)\n",
    "\n",
    "#display(dbutils.fs.ls(file_location))"
   ]
  }
 ],
 "metadata": {
  "application/vnd.databricks.v1+notebook": {
   "dashboards": [],
   "language": "python",
   "notebookMetadata": {
    "pythonIndentUnit": 4
   },
   "notebookName": "2-Filtering_data.ipynb",
   "widgets": {}
  }
 },
 "nbformat": 4,
 "nbformat_minor": 0
}
