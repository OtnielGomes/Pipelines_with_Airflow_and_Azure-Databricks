{
 "cells": [
  {
   "cell_type": "markdown",
   "metadata": {
    "application/vnd.databricks.v1+cell": {
     "cellMetadata": {},
     "inputWidgets": {},
     "nuid": "12f9eef3-242c-4962-977e-12412838a8ec",
     "showTitle": false,
     "title": ""
    }
   },
   "source": [
    "## Extracting data"
   ]
  },
  {
   "cell_type": "code",
   "execution_count": 0,
   "metadata": {
    "application/vnd.databricks.v1+cell": {
     "cellMetadata": {
      "byteLimit": 2048000,
      "rowLimit": 10000
     },
     "inputWidgets": {},
     "nuid": "9bf27a08-dd43-4579-a00f-b76903ab7b04",
     "showTitle": false,
     "title": ""
    }
   },
   "outputs": [],
   "source": [
    "# Command used to receive a date from AirFlow\n",
    "dbutils.widgets.text('execution_date', '')\n",
    "execution_date = dbutils.widgets.get('execution_date')\n"
   ]
  },
  {
   "cell_type": "markdown",
   "metadata": {
    "application/vnd.databricks.v1+cell": {
     "cellMetadata": {},
     "inputWidgets": {},
     "nuid": "36baaa78-bc72-41e0-8d2f-308aed241b26",
     "showTitle": false,
     "title": ""
    }
   },
   "source": [
    "## Imports:"
   ]
  },
  {
   "cell_type": "code",
   "execution_count": 0,
   "metadata": {
    "application/vnd.databricks.v1+cell": {
     "cellMetadata": {
      "byteLimit": 2048000,
      "rowLimit": 10000
     },
     "inputWidgets": {},
     "nuid": "b270ee87-754b-448a-9427-77a3da25940f",
     "showTitle": false,
     "title": ""
    }
   },
   "outputs": [],
   "source": [
    "import requests # Library used to access the API responsible for extracting coin data \n",
    "from pyspark.sql.functions import lit # Function used to create a column with the dates of the day of data extraction\n"
   ]
  },
  {
   "cell_type": "markdown",
   "metadata": {
    "application/vnd.databricks.v1+cell": {
     "cellMetadata": {},
     "inputWidgets": {},
     "nuid": "256f0c69-9592-4525-8ba4-dbb11fd9ddcc",
     "showTitle": false,
     "title": ""
    }
   },
   "source": [
    "## Function to extract data"
   ]
  },
  {
   "cell_type": "code",
   "execution_count": 0,
   "metadata": {
    "application/vnd.databricks.v1+cell": {
     "cellMetadata": {
      "byteLimit": 2048000,
      "rowLimit": 10000
     },
     "inputWidgets": {},
     "nuid": "a7274f57-4a96-4245-939b-37556ab2493c",
     "showTitle": false,
     "title": ""
    }
   },
   "outputs": [],
   "source": [
    "def extrat_data(date, base = 'BRL'):\n",
    "  \n",
    "  url = f'https://api.apilayer.com/exchangerates_data/{date}&base={base}'\n",
    "\n",
    "\n",
    "  headers= {\n",
    "    'apikey': '*******************************'# Enter your API Key\n",
    "  }\n",
    "\n",
    "  params = {'base': base}\n",
    "  response = requests.request('GET', url, headers = headers, params = params)\n",
    "\n",
    "  if response.status_code != 200:\n",
    "    raise Exception('Data not extrating.')\n",
    "\n",
    "  return response.json()"
   ]
  },
  {
   "cell_type": "markdown",
   "metadata": {
    "application/vnd.databricks.v1+cell": {
     "cellMetadata": {},
     "inputWidgets": {},
     "nuid": "1134ec5d-4811-499f-a9d5-7d28a6268e87",
     "showTitle": false,
     "title": ""
    }
   },
   "source": [
    "## Function to save data in parquet"
   ]
  },
  {
   "cell_type": "code",
   "execution_count": 0,
   "metadata": {
    "application/vnd.databricks.v1+cell": {
     "cellMetadata": {
      "byteLimit": 2048000,
      "rowLimit": 10000
     },
     "inputWidgets": {},
     "nuid": "27c988de-5bf8-4260-a37e-eb532e9a06f8",
     "showTitle": false,
     "title": ""
    }
   },
   "outputs": [],
   "source": [
    "def save_parquet(extracted_conversions):\n",
    "    \n",
    "    # Extracting date from records\n",
    "    year, month, day = extracted_conversions['date'].split('-')\n",
    "\n",
    "    # Defining the path \n",
    "    path = f'/Workspace/Repos/otnielgomes/Pipelines_with_Airflow_and_Azure-Databricks/data/bronze/{year}/{month}/{day}'\n",
    "\n",
    "    # Saving data to a variable\n",
    "    response = [(coin, float(rate)) for coin, rate in extracted_conversions['rates'].items()]\n",
    "\n",
    "    # Creating DataFrame\n",
    "    df_conversions = spark.createDataFrame(response, schema = ['coin', 'rate'])\n",
    "\n",
    "    # Creating a date column\n",
    "    df_conversions = df_conversions.withColumn('date', lit(f'{year}-{month}-{day}'))\n",
    "\n",
    "    # Save DataFrame in parquet\n",
    "   \n",
    "   # local file and type\n",
    "    file_local = path\n",
    "    file_type = 'parquet'\n",
    "\n",
    "    # mode\n",
    "    mode = 'overwrite'\n",
    "\n",
    "    # saving\n",
    "    df_conversions.write.format(file_type)\\\n",
    "        .mode(mode)\\\n",
    "        .save(file_local)"
   ]
  },
  {
   "cell_type": "markdown",
   "metadata": {
    "application/vnd.databricks.v1+cell": {
     "cellMetadata": {},
     "inputWidgets": {},
     "nuid": "a3de0886-9910-4d3c-9ee0-efcf112b30e9",
     "showTitle": false,
     "title": ""
    }
   },
   "source": [
    "## Performing functions"
   ]
  },
  {
   "cell_type": "code",
   "execution_count": 0,
   "metadata": {
    "application/vnd.databricks.v1+cell": {
     "cellMetadata": {},
     "inputWidgets": {},
     "nuid": "89f566b7-ec4e-4afa-a692-cc13bcc19ea3",
     "showTitle": false,
     "title": ""
    }
   },
   "outputs": [],
   "source": [
    "extracted_conversions = extrat_data(execution_date, base = 'BRL')\n",
    "save_parquet(extracted_conversions)"
   ]
  }
 ],
 "metadata": {
  "application/vnd.databricks.v1+notebook": {
   "dashboards": [],
   "language": "python",
   "notebookMetadata": {
    "pythonIndentUnit": 4
   },
   "notebookName": "1- Extraction.ipynb",
   "widgets": {
    "data_execucao": {
     "currentValue": "",
     "nuid": "89c771fe-273e-42cf-8bad-1ed8cef0edfb",
     "widgetInfo": {
      "widgetType": "text",
      "defaultValue": "",
      "label": null,
      "name": "data_execucao",
      "options": {
       "widgetType": "text",
       "autoCreated": null,
       "validationRegex": null
      }
     }
    },
    "execution_date": {
     "currentValue": "",
     "nuid": "7bf70da0-f84f-4ef8-acd6-51e7d555a548",
     "widgetInfo": {
      "widgetType": "text",
      "defaultValue": "",
      "label": null,
      "name": "execution_date",
      "options": {
       "widgetType": "text",
       "autoCreated": null,
       "validationRegex": null
      }
     }
    }
   }
  }
 },
 "nbformat": 4,
 "nbformat_minor": 0
}
